{
 "cells": [
  {
   "metadata": {
    "collapsed": true,
    "ExecuteTime": {
     "end_time": "2025-02-04T19:48:23.893470Z",
     "start_time": "2025-02-04T19:48:23.886970Z"
    }
   },
   "cell_type": "code",
   "source": [
    "%%file test_KT2.py\n",
    "\n",
    "from selenium.common import NoSuchElementException\n",
    "from selenium import webdriver\n",
    "from selenium.webdriver import Keys\n",
    "from selenium.webdriver.common.by import By\n",
    "import pytest\n",
    "\n",
    "@pytest.fixture(scope=\"function\")\n",
    "def driver():\n",
    "    driver = webdriver.Firefox()\n",
    "    driver.implicitly_wait(3)\n",
    "    driver.get(\"http://192.168.0.225:8081/\")\n",
    "    yield driver\n",
    "    driver.close()\n",
    "\n",
    "def test_switch_screens(driver):\n",
    "    driver.get(\"http://192.168.0.225:8081/en-gb/product/macbook?search=MacBook\")\n",
    "    driver.find_element(By.XPATH, \"//*[@id='content']/div[1]/div[1]/div/a/img\").click()\n",
    "    driver.find_element(By.XPATH, \"/html/body/div[2]/div/button[2]\").click()\n",
    "\n",
    "    # Счетчик фото\n",
    "    counter = driver.find_element(By.XPATH, \"//div[text()='2 of 5']\")\n",
    "    expected = \"2 of 5\"\n",
    "    assert counter.text == expected\n",
    "\n",
    "def test_switch_screens_negative(driver):\n",
    "    driver.get(\"http://192.168.0.225:8081/en-gb/product/macbook?search=MacBook\")\n",
    "    try:\n",
    "        driver.find_element(By.XPATH, \"//img[@title='MacBook Pro']\").click()\n",
    "    except NoSuchElementException:\n",
    "        assert True\n",
    "\n",
    "def test_switch_currency(driver):\n",
    "    driver.find_element(By.CLASS_NAME, \"dropdown-toggle\").click()\n",
    "    driver.find_element(By.XPATH, \"//a[@href='EUR']\").click()\n",
    "\n",
    "    # Значок валюты\n",
    "    expected = \"€\"\n",
    "    actual = driver.find_element(By.XPATH, \"//strong\").text\n",
    "    assert actual == expected\n",
    "\n",
    "def test_switch_currency_negative(driver):\n",
    "    driver.find_element(By.CLASS_NAME, \"dropdown-toggle\").click()\n",
    "    driver.find_element(By.XPATH, \"//a[@href='EUR']\").click()\n",
    "\n",
    "    # Значок валюты\n",
    "    expected = \"$\"\n",
    "    actual = driver.find_element(By.XPATH, \"//strong\").text\n",
    "    assert actual != expected\n",
    "\n",
    "def test_page_pc(driver):\n",
    "    driver.find_element(By.XPATH, \"//a[@href='http://192.168.0.225:8081/en-gb/catalog/desktops']\").click()\n",
    "    driver.find_element(By.XPATH, \"//a[@href='http://192.168.0.225:8081/en-gb/catalog/desktops/pc']\").click()\n",
    "\n",
    "    # Текст на странице\n",
    "    expected = (\"Desktops\\n\"\n",
    "                \"Example of category description text\\n\"\n",
    "                \"There are no products to list in this category.\\n\"\n",
    "                \"Continue\")\n",
    "    actual = driver.find_element(By.ID, \"content\").text\n",
    "    assert actual == expected\n",
    "\n",
    "def test_page_pc_negative(driver):\n",
    "    driver.find_element(By.XPATH, \"//a[@href='http://192.168.0.225:8081/en-gb/catalog/desktops']\").click()\n",
    "    driver.find_element(By.XPATH, \"//a[@href='http://192.168.0.225:8081/en-gb/catalog/desktops/pc']\").click()\n",
    "\n",
    "    # Текст на странице\n",
    "    expected = \"There are nothing.\"\n",
    "    actual = driver.find_element(By.ID, \"content\").text\n",
    "    assert actual != expected\n",
    "\n",
    "def test_signup(driver):\n",
    "    first_name = \"Test\"\n",
    "    last_name = \"Test\"\n",
    "    email = \"123@example.com\"\n",
    "    password = \"123123\"\n",
    "\n",
    "    driver.find_element(By.XPATH, \"//span[text()='My Account']\").click()\n",
    "    driver.find_element(By.XPATH, \"//a[text()='Register']\").click()\n",
    "\n",
    "    # Заполняем форму регистрации\n",
    "    driver.find_element(By.XPATH, \"//input[@name='firstname']\").send_keys(first_name)\n",
    "    driver.find_element(By.XPATH, \"//input[@name='lastname']\").send_keys(last_name)\n",
    "    driver.find_element(By.XPATH, \"//input[@name='email']\").send_keys(email)\n",
    "    driver.find_element(By.XPATH, \"//input[@name='password']\").send_keys(password)\n",
    "    driver.find_element(By.XPATH, \"//input[@name='agree']\").send_keys(Keys.SPACE)\n",
    "    driver.find_element(By.XPATH, \"//button[text()='Continue']\").submit()\n",
    "    driver.implicitly_wait(3)\n",
    "\n",
    "    actual = driver.find_element(By.XPATH, \"//*[@id='content']/h1\")\n",
    "    assert actual.is_displayed() == True\n",
    "\n",
    "def test_signup_negative(driver):\n",
    "    first_name = \"Test\"\n",
    "    last_name = \"Test\"\n",
    "    email = \"123@example.com\"\n",
    "    password = \"\"\n",
    "\n",
    "    driver.find_element(By.XPATH, \"//span[text()='My Account']\").click()\n",
    "    driver.find_element(By.XPATH, \"//a[text()='Register']\").click()\n",
    "\n",
    "    # Заполняем форму регистрации\n",
    "    driver.find_element(By.XPATH, \"//input[@name='firstname']\").send_keys(first_name)\n",
    "    driver.find_element(By.XPATH, \"//input[@name='lastname']\").send_keys(last_name)\n",
    "    driver.find_element(By.XPATH, \"//input[@name='email']\").send_keys(email)\n",
    "    driver.find_element(By.XPATH, \"//input[@name='password']\").send_keys(password)\n",
    "    driver.find_element(By.XPATH, \"//input[@name='agree']\").send_keys(Keys.SPACE)\n",
    "    driver.find_element(By.XPATH, \"//button[text()='Continue']\").submit()\n",
    "\n",
    "    expected = \"Password must be between 4 and 20 characters!\"\n",
    "    actual = driver.find_element(By.XPATH, \"//div[text()='Password must be between 4 and 20 characters!']\").text\n",
    "    assert actual == expected\n",
    "\n",
    "def test_search(driver):\n",
    "    text = \"MacBook\"\n",
    "    driver.find_element(By.XPATH, \"//input[@name='search']\").send_keys(text)\n",
    "    driver.find_element(By.XPATH, \"//i[@class='fa-solid fa-magnifying-glass']\").click()\n",
    "\n",
    "    # Поисковая строка\n",
    "    expected = \"Search - MacBook\"\n",
    "    actual = driver.find_element(By.XPATH, \"//*[@id='content']/h1\").text\n",
    "    assert actual == expected\n",
    "\n",
    "def test_search_negative(driver):\n",
    "    text = \"iPhone\"\n",
    "    driver.find_element(By.XPATH, \"//input[@name='search']\").send_keys(text)\n",
    "    driver.find_element(By.XPATH, \"//i[@class='fa-solid fa-magnifying-glass']\").click()\n",
    "\n",
    "    # Поисковая строка\n",
    "    expected = \"Search - MacBook\"\n",
    "    actual = driver.find_element(By.XPATH, \"//*[@id='content']/h1\").text\n",
    "    assert actual != expected"
   ],
   "id": "initial_id",
   "outputs": [
    {
     "name": "stdout",
     "output_type": "stream",
     "text": [
      "Overwriting test_KT2.py\n"
     ]
    }
   ],
   "execution_count": 5
  },
  {
   "metadata": {
    "ExecuteTime": {
     "end_time": "2025-02-04T19:48:59.762847Z",
     "start_time": "2025-02-04T19:48:27.046276Z"
    }
   },
   "cell_type": "code",
   "source": "!pytest test_KT2.py",
   "id": "3409f2f4894d17d8",
   "outputs": [
    {
     "name": "stdout",
     "output_type": "stream",
     "text": [
      "\u001B[1mTest session starts (platform: darwin, Python 3.9.6, pytest 8.3.4, pytest-sugar 1.0.0)\u001B[0m\r\n",
      "rootdir: /Users/valdor/Projects/PycharmProjects/WebTesting/KT2\r\n",
      "plugins: cov-6.0.0, sugar-1.0.0, anyio-4.8.0\r\n",
      "collected 10 items                                                             \u001B[0m\r\n",
      "\r\n",
      " \u001B[36m\u001B[0mtest_KT2.py\u001B[0m \u001B[32m✓\u001B[0m\u001B[32m✓\u001B[0m\u001B[32m✓\u001B[0m\u001B[32m✓\u001B[0m\u001B[32m✓\u001B[0m\u001B[32m✓\u001B[0m\u001B[32m✓\u001B[0m\u001B[32m✓\u001B[0m\u001B[32m✓\u001B[0m\u001B[32m✓\u001B[0m                                          \u001B[32m100% \u001B[0m\u001B[40m\u001B[32m█\u001B[0m\u001B[40m\u001B[32m█\u001B[0m\u001B[40m\u001B[32m█\u001B[0m\u001B[40m\u001B[32m█\u001B[0m\u001B[40m\u001B[32m█\u001B[0m\u001B[40m\u001B[32m█\u001B[0m\u001B[40m\u001B[32m█\u001B[0m\u001B[40m\u001B[32m█\u001B[0m\u001B[40m\u001B[32m█\u001B[0m\u001B[40m\u001B[32m█\u001B[0m\r\n",
      "\r\n",
      "Results (32.39s):\r\n",
      "\u001B[32m      10 passed\u001B[0m\r\n"
     ]
    }
   ],
   "execution_count": 6
  },
  {
   "metadata": {
    "ExecuteTime": {
     "end_time": "2025-02-04T19:29:21.415432Z",
     "start_time": "2025-02-04T19:29:21.413476Z"
    }
   },
   "cell_type": "code",
   "source": "",
   "id": "635b9a846bd632ea",
   "outputs": [],
   "execution_count": null
  }
 ],
 "metadata": {
  "kernelspec": {
   "display_name": "Python 3",
   "language": "python",
   "name": "python3"
  },
  "language_info": {
   "codemirror_mode": {
    "name": "ipython",
    "version": 2
   },
   "file_extension": ".py",
   "mimetype": "text/x-python",
   "name": "python",
   "nbconvert_exporter": "python",
   "pygments_lexer": "ipython2",
   "version": "2.7.6"
  }
 },
 "nbformat": 4,
 "nbformat_minor": 5
}
