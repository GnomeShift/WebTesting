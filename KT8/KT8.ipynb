{
 "cells": [
  {
   "metadata": {},
   "cell_type": "markdown",
   "source": "## КТ8",
   "id": "9cf177cc3715a0ba"
  },
  {
   "metadata": {},
   "cell_type": "markdown",
   "source": "## Параметры",
   "id": "cd8ffafb97480370"
  },
  {
   "cell_type": "code",
   "id": "initial_id",
   "metadata": {
    "collapsed": true,
    "ExecuteTime": {
     "end_time": "2025-04-11T21:01:08.094817Z",
     "start_time": "2025-04-11T21:01:08.079839Z"
    }
   },
   "source": [
    "%%file params.json\n",
    "{\n",
    "    \"platformName\": \"Android\",\n",
    "    \"platformVersion\": \"14\",\n",
    "    \"deviceName\": \"Pixel_3a_API_34_extension_level_7_x86_64\",\n",
    "    \"appPackage\": \"com.google.android.youtube\",\n",
    "    \"appActivity\": \"com.google.android.youtube/.app.honeycomb.Shell$HomeActivity\",\n",
    "    \"automationName\": \"uiautomator2\",\n",
    "    \"newCommandTimeout\": 50\n",
    "}"
   ],
   "outputs": [
    {
     "name": "stdout",
     "output_type": "stream",
     "text": [
      "Overwriting params.json\n"
     ]
    }
   ],
   "execution_count": 71
  },
  {
   "metadata": {},
   "cell_type": "markdown",
   "source": "## Тесты",
   "id": "5052d79e5fab0709"
  },
  {
   "metadata": {
    "ExecuteTime": {
     "end_time": "2025-04-11T21:02:12.203978Z",
     "start_time": "2025-04-11T21:02:12.195431Z"
    }
   },
   "cell_type": "code",
   "source": [
    "%%file test_youtube.py\n",
    "from selenium.webdriver.support.wait import WebDriverWait\n",
    "import pytest\n",
    "import json\n",
    "from appium.webdriver.common.appiumby import AppiumBy\n",
    "from appium import webdriver\n",
    "from appium.webdriver.webdriver import AppiumOptions\n",
    "from selenium.webdriver.support import expected_conditions as EC\n",
    "from appium.webdriver.extensions.action_helpers import *\n",
    "\n",
    "APPIUM_SERVER_URL = \"http://localhost:4723\"\n",
    "PARAMS_FILE = \"params.json\"\n",
    "\n",
    "SHORTS_PLAYER = AppiumBy.XPATH, \"//android.view.ViewGroup[@resource-id=\\\"com.google.android.youtube:id/reel_watch_player\\\"]/android.widget.FrameLayout\"\n",
    "APP_BACKGROUND = AppiumBy.XPATH, \"//android.widget.FrameLayout[@resource-id=\\\"android:id/content\\\"]\"\n",
    "SEARCH_ICON = AppiumBy.ACCESSIBILITY_ID, \"Search\"\n",
    "SEARCH_TEXT = AppiumBy.ID, \"com.google.android.youtube:id/search_edit_text\"\n",
    "VIDEO_PLAYER = AppiumBy.ID, \"com.google.android.youtube:id/player_view\"\n",
    "FIRST_VIDEO_IN_SEARCH = AppiumBy.XPATH, \"//android.support.v7.widget.RecyclerView[@resource-id=\\\"com.google.android.youtube:id/results\\\"]/android.view.ViewGroup[1]\"\n",
    "CHANNEL_NAME = AppiumBy.XPATH, \"//android.support.v7.widget.RecyclerView[@resource-id=\\\"com.google.android.youtube:id/watch_list\\\"]/android.view.ViewGroup[2]/android.view.ViewGroup\"\n",
    "CHANNEL_INFO = AppiumBy.ID, \"com.google.android.youtube:id/collapsing_header_container\"\n",
    "\n",
    "@pytest.fixture(scope=\"session\")\n",
    "def driver():\n",
    "    with open(PARAMS_FILE, 'r') as f:\n",
    "        params = json.load(f)\n",
    "\n",
    "    appium_options = AppiumOptions()\n",
    "    appium_options.load_capabilities(params)\n",
    "\n",
    "    driver = webdriver.Remote(APPIUM_SERVER_URL, options=appium_options)\n",
    "    yield driver\n",
    "    driver.quit()\n",
    "\n",
    "\n",
    "class TestYouTubeGestures:\n",
    "    def test_scroll_down(self, driver):\n",
    "        WebDriverWait(driver, 5).until(EC.presence_of_element_located(APP_BACKGROUND))\n",
    "\n",
    "        screen_size = driver.get_window_size()\n",
    "        start_x = screen_size[\"width\"] // 2\n",
    "        start_y = screen_size[\"height\"] // 2\n",
    "        end_x = screen_size[\"width\"] // 2\n",
    "        end_y = int(screen_size[\"height\"] * 0.2)\n",
    "\n",
    "        for _ in range(1):\n",
    "            finger = PointerInput(interaction.POINTER_TOUCH, \"finger\")\n",
    "            actions = ActionChains(driver)\n",
    "            actions.w3c_actions.pointer_action.move_to_location(start_x, start_y)\n",
    "            actions.w3c_actions.pointer_action.pointer_down()\n",
    "            actions.w3c_actions.pointer_action.move_to_location(end_x, end_y)\n",
    "            actions.w3c_actions.pointer_action.release()\n",
    "            actions.perform()\n",
    "\n",
    "        assert True\n",
    "\n",
    "    def test_scroll_up(self, driver):\n",
    "        WebDriverWait(driver, 5).until(EC.presence_of_element_located(APP_BACKGROUND))\n",
    "\n",
    "        screen_size = driver.get_window_size()\n",
    "        start_x = screen_size[\"width\"] // 2\n",
    "        start_y = int(screen_size[\"height\"] * 0.2)\n",
    "        end_x = screen_size[\"width\"] // 2\n",
    "        end_y = int(screen_size[\"height\"] * 0.8)\n",
    "\n",
    "        for _ in range(1):\n",
    "            finger = PointerInput(interaction.POINTER_TOUCH, \"finger\")\n",
    "            actions = ActionChains(driver)\n",
    "            actions.w3c_actions.pointer_action.move_to_location(start_x, start_y)\n",
    "            actions.w3c_actions.pointer_action.pointer_down()\n",
    "            actions.w3c_actions.pointer_action.move_to_location(end_x, end_y)\n",
    "            actions.w3c_actions.pointer_action.release()\n",
    "            actions.perform()\n",
    "\n",
    "        assert True\n",
    "\n",
    "    def test_search_open_video(self, driver):\n",
    "        search_button = WebDriverWait(driver, 5).until(EC.element_to_be_clickable(SEARCH_ICON))\n",
    "        search_button.click()\n",
    "\n",
    "        search_field = WebDriverWait(driver, 5).until(EC.presence_of_element_located(SEARCH_TEXT))\n",
    "        search_field.send_keys(\"4k video\")\n",
    "\n",
    "        driver.press_keycode(66)\n",
    "\n",
    "        first_result = WebDriverWait(driver, 5).until(EC.element_to_be_clickable(FIRST_VIDEO_IN_SEARCH))\n",
    "        first_result.click()\n",
    "\n",
    "        WebDriverWait(driver, 5).until(EC.presence_of_element_located(VIDEO_PLAYER))\n",
    "        assert True\n",
    "\n",
    "    def test_tap_channel(self, driver):\n",
    "        WebDriverWait(driver, 5).until(EC.presence_of_element_located(VIDEO_PLAYER))\n",
    "        try:\n",
    "            channel_name = WebDriverWait(driver, 5).until(EC.element_to_be_clickable(CHANNEL_NAME))\n",
    "            channel_name.click()\n",
    "\n",
    "            WebDriverWait(driver, 5).until(EC.presence_of_element_located(CHANNEL_INFO))\n",
    "            assert True\n",
    "        except:\n",
    "            assert False\n",
    "\n",
    "    def test_swipe_shorts(self, driver):\n",
    "        shorts_button = WebDriverWait(driver, 5).until(EC.element_to_be_clickable((AppiumBy.ACCESSIBILITY_ID, \"Shorts\")))\n",
    "        shorts_button.click()\n",
    "\n",
    "        WebDriverWait(driver, 3).until(EC.presence_of_element_located(SHORTS_PLAYER))\n",
    "\n",
    "        screen_size = driver.get_window_size()\n",
    "        start_x = screen_size[\"width\"] // 2\n",
    "        start_y = screen_size[\"height\"] // 2\n",
    "        end_x = screen_size[\"width\"] // 2\n",
    "        end_y = screen_size[\"height\"] + 100\n",
    "\n",
    "        finger = PointerInput(interaction.POINTER_TOUCH, \"finger\")\n",
    "        actions = ActionChains(driver)\n",
    "        actions.w3c_actions.pointer_action.move_to_location(start_x, start_y)\n",
    "        actions.w3c_actions.pointer_action.pointer_down()\n",
    "        actions.w3c_actions.pointer_action.move_to_location(end_x, end_y)\n",
    "        actions.w3c_actions.pointer_action.release()\n",
    "        actions.perform()\n",
    "\n",
    "        try:\n",
    "            WebDriverWait(driver, 3).until(EC.element_to_be_clickable((AppiumBy.ACCESSIBILITY_ID, \"Shorts\")))\n",
    "            assert True\n",
    "        except:\n",
    "            assert False"
   ],
   "id": "49fbb1fae6ac842d",
   "outputs": [
    {
     "name": "stdout",
     "output_type": "stream",
     "text": [
      "Overwriting test_youtube.py\n"
     ]
    }
   ],
   "execution_count": 72
  },
  {
   "metadata": {
    "ExecuteTime": {
     "end_time": "2025-04-11T21:04:48.379328Z",
     "start_time": "2025-04-11T21:04:20.587079Z"
    }
   },
   "cell_type": "code",
   "source": "!pytest test_youtube.py",
   "id": "b1dfd209eb3d93d1",
   "outputs": [
    {
     "name": "stdout",
     "output_type": "stream",
     "text": [
      "\u001B[1m============================= test session starts =============================\u001B[0m\n",
      "platform win32 -- Python 3.9.7, pytest-8.3.4, pluggy-1.5.0\n",
      "rootdir: C:\\Users\\acva0\\Projects\\PycharmProjects\\WebTesting\\KT8\n",
      "plugins: allure-pytest-2.13.5, anyio-4.8.0, variables-3.1.0\n",
      "collected 5 items\n",
      "\n",
      "test_youtube.py \u001B[32m.\u001B[0m\u001B[32m.\u001B[0m\u001B[32m.\u001B[0m\u001B[32m.\u001B[0m\u001B[32m.\u001B[0m\u001B[32m                                                    [100%]\u001B[0m\n",
      "\n",
      "\u001B[32m============================= \u001B[32m\u001B[1m5 passed\u001B[0m\u001B[32m in 27.09s\u001B[0m\u001B[32m ==============================\u001B[0m\n"
     ]
    }
   ],
   "execution_count": 75
  },
  {
   "metadata": {},
   "cell_type": "code",
   "outputs": [],
   "execution_count": null,
   "source": "",
   "id": "e54c6e668889aadd"
  }
 ],
 "metadata": {
  "kernelspec": {
   "display_name": "Python 3",
   "language": "python",
   "name": "python3"
  },
  "language_info": {
   "codemirror_mode": {
    "name": "ipython",
    "version": 2
   },
   "file_extension": ".py",
   "mimetype": "text/x-python",
   "name": "python",
   "nbconvert_exporter": "python",
   "pygments_lexer": "ipython2",
   "version": "2.7.6"
  }
 },
 "nbformat": 4,
 "nbformat_minor": 5
}
