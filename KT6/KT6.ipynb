{
 "cells": [
  {
   "metadata": {},
   "cell_type": "markdown",
   "source": "## КТ6",
   "id": "a9055480c798eb90"
  },
  {
   "metadata": {},
   "cell_type": "markdown",
   "source": "### Параметры",
   "id": "1b43176ce6b71997"
  },
  {
   "cell_type": "code",
   "id": "initial_id",
   "metadata": {
    "collapsed": true,
    "ExecuteTime": {
     "end_time": "2025-04-01T18:23:03.583686Z",
     "start_time": "2025-04-01T18:23:03.572910Z"
    }
   },
   "source": [
    "%%file params.json\n",
    "{\n",
    "  \"platformName\": \"Android\",\n",
    "  \"platformVersion\": \"14\",\n",
    "  \"deviceName\": \"Pixel_3a_API_34_extension_level_7_x86_64\",\n",
    "  \"appPackage\": \"com.google.android.calculator\",\n",
    "  \"appActivity\": \"com.android.calculator2.Calculator\",\n",
    "  \"automationName\": \"uiautomator2\",\n",
    "  \"newCommandTimeout\": 50\n",
    "}"
   ],
   "outputs": [
    {
     "name": "stdout",
     "output_type": "stream",
     "text": [
      "Overwriting params.json\n"
     ]
    }
   ],
   "execution_count": 16
  },
  {
   "metadata": {},
   "cell_type": "markdown",
   "source": "### Тесты калькулятора",
   "id": "14506c0cfab6e167"
  },
  {
   "metadata": {
    "ExecuteTime": {
     "end_time": "2025-04-01T18:38:34.113182Z",
     "start_time": "2025-04-01T18:38:34.105832Z"
    }
   },
   "cell_type": "code",
   "source": [
    "%%file test_calculator.py\n",
    "import pytest\n",
    "import json\n",
    "from appium.webdriver.common.appiumby import AppiumBy\n",
    "from appium import webdriver\n",
    "from appium.webdriver.webdriver import AppiumOptions\n",
    "\n",
    "APPIUM_SERVER_URL = \"http://localhost:4723\"\n",
    "PARAMS_FILE = \"params.json\"\n",
    "\n",
    "DIGIT_1 = \"com.google.android.calculator:id/digit_1\"\n",
    "DIGIT_2 = \"com.google.android.calculator:id/digit_2\"\n",
    "DIGIT_3 = \"com.google.android.calculator:id/digit_3\"\n",
    "DIGIT_4 = \"com.google.android.calculator:id/digit_4\"\n",
    "DIGIT_5 = \"com.google.android.calculator:id/digit_5\"\n",
    "DIGIT_6 = \"com.google.android.calculator:id/digit_6\"\n",
    "DIGIT_7 = \"com.google.android.calculator:id/digit_7\"\n",
    "DIGIT_8 = \"com.google.android.calculator:id/digit_8\"\n",
    "DIGIT_9 = \"com.google.android.calculator:id/digit_9\"\n",
    "DIGIT_0 = \"com.google.android.calculator:id/digit_0\"\n",
    "PLUS_BUTTON = \"plus\"\n",
    "MINUS_BUTTON = \"minus\"\n",
    "MULTIPLY_BUTTON = \"multiply\"\n",
    "DIVIDE_BUTTON = \"divide\"\n",
    "CLEAR_BUTTON = \"com.google.android.calculator:id/del\"\n",
    "EQUALS_BUTTON = \"equals\"\n",
    "RESULT_FIELD = \"com.google.android.calculator:id/result_final\"\n",
    "FORMULA_FIELD = \"com.google.android.calculator:id/formula\"\n",
    "\n",
    "\n",
    "@pytest.fixture(scope=\"session\")\n",
    "def driver():\n",
    "    with open(PARAMS_FILE, 'r') as f:\n",
    "        params = json.load(f)\n",
    "\n",
    "    appium_options = AppiumOptions()\n",
    "    appium_options.load_capabilities(params)\n",
    "\n",
    "    driver = webdriver.Remote(APPIUM_SERVER_URL, options=appium_options)\n",
    "    yield driver\n",
    "    driver.quit()\n",
    "\n",
    "\n",
    "class TestCalculator:\n",
    "    @pytest.mark.parametrize(\"digit_1, digit_2, operation, expected\", [(DIGIT_2, DIGIT_2, PLUS_BUTTON, \"4\"),\n",
    "                                                                       (DIGIT_5, DIGIT_3, MINUS_BUTTON, \"2\"),\n",
    "                                                                       (DIGIT_4, DIGIT_8, MULTIPLY_BUTTON, \"32\"),\n",
    "                                                                       (DIGIT_7, DIGIT_1, DIVIDE_BUTTON, \"7\")])\n",
    "    def test_calculator(self, driver, digit_1, digit_2, operation, expected):\n",
    "        driver.find_element(by=AppiumBy.ID, value=digit_1).click()\n",
    "        driver.find_element(by=AppiumBy.ACCESSIBILITY_ID, value=operation).click()\n",
    "        driver.find_element(by=AppiumBy.ID, value=digit_2).click()\n",
    "        driver.find_element(by=AppiumBy.ACCESSIBILITY_ID, value=EQUALS_BUTTON).click()\n",
    "        result = driver.find_element(by=AppiumBy.ID, value=RESULT_FIELD).text\n",
    "        assert result == expected\n",
    "\n",
    "    def test_clear(self, driver):\n",
    "        driver.find_element(by=AppiumBy.ID, value=DIGIT_6).click()\n",
    "        driver.find_element(by=AppiumBy.ID, value=CLEAR_BUTTON).click()\n",
    "        result = driver.find_element(by=AppiumBy.ID, value=FORMULA_FIELD).text\n",
    "        assert result == \"\""
   ],
   "id": "9ec03fd026b0e807",
   "outputs": [
    {
     "name": "stdout",
     "output_type": "stream",
     "text": [
      "Overwriting test_calculator.py\n"
     ]
    }
   ],
   "execution_count": 22
  },
  {
   "metadata": {
    "ExecuteTime": {
     "end_time": "2025-04-01T18:40:05.050908Z",
     "start_time": "2025-04-01T18:39:41.002135Z"
    }
   },
   "cell_type": "code",
   "source": "!pytest test_calculator.py",
   "id": "1a1b5cbe8aa87d4d",
   "outputs": [
    {
     "name": "stdout",
     "output_type": "stream",
     "text": [
      "\u001B[1m============================= test session starts =============================\u001B[0m\n",
      "platform win32 -- Python 3.9.7, pytest-8.3.4, pluggy-1.5.0\n",
      "rootdir: C:\\Users\\acva0\\Projects\\PycharmProjects\\WebTesting\\KT6\n",
      "plugins: allure-pytest-2.13.5, anyio-4.8.0, variables-3.1.0\n",
      "collected 5 items\n",
      "\n",
      "test_calculator.py \u001B[32m.\u001B[0m\u001B[32m.\u001B[0m\u001B[32m.\u001B[0m\u001B[32m.\u001B[0m\u001B[32m.\u001B[0m\u001B[32m                                                 [100%]\u001B[0m\n",
      "\n",
      "\u001B[32m============================= \u001B[32m\u001B[1m5 passed\u001B[0m\u001B[32m in 23.29s\u001B[0m\u001B[32m ==============================\u001B[0m\n"
     ]
    }
   ],
   "execution_count": 24
  },
  {
   "metadata": {
    "ExecuteTime": {
     "end_time": "2025-04-01T18:19:36.440224Z",
     "start_time": "2025-04-01T18:19:36.431078Z"
    }
   },
   "cell_type": "code",
   "source": "",
   "id": "80449af38a2ada1a",
   "outputs": [],
   "execution_count": null
  }
 ],
 "metadata": {
  "kernelspec": {
   "display_name": "Python 3",
   "language": "python",
   "name": "python3"
  },
  "language_info": {
   "codemirror_mode": {
    "name": "ipython",
    "version": 2
   },
   "file_extension": ".py",
   "mimetype": "text/x-python",
   "name": "python",
   "nbconvert_exporter": "python",
   "pygments_lexer": "ipython2",
   "version": "2.7.6"
  }
 },
 "nbformat": 4,
 "nbformat_minor": 5
}
