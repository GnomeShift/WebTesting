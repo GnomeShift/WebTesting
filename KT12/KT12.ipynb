{
 "cells": [
  {
   "metadata": {},
   "cell_type": "markdown",
   "source": [
    "## КТ12\n",
    "### Генерация gRPC"
   ],
   "id": "befb05136045f973"
  },
  {
   "cell_type": "code",
   "id": "initial_id",
   "metadata": {
    "collapsed": true,
    "ExecuteTime": {
     "end_time": "2025-05-14T21:15:02.032587Z",
     "start_time": "2025-05-14T21:15:01.762838Z"
    }
   },
   "source": "!python -m grpc_tools.protoc -I. --python_out=. --grpc_python_out=. registraion.proto",
   "outputs": [],
   "execution_count": 1
  },
  {
   "metadata": {
    "ExecuteTime": {
     "end_time": "2025-05-14T21:15:18.252200Z",
     "start_time": "2025-05-14T21:15:17.930270Z"
    }
   },
   "cell_type": "code",
   "source": "!python -m grpc_tools.protoc -I. --python_out=. --grpc_python_out=. database.proto",
   "id": "57e6d614cdc6de2a",
   "outputs": [],
   "execution_count": 2
  },
  {
   "metadata": {},
   "cell_type": "markdown",
   "source": "### gRPC-сервисы",
   "id": "34117d5a347d675"
  },
  {
   "metadata": {
    "ExecuteTime": {
     "end_time": "2025-05-15T10:13:51.021542Z",
     "start_time": "2025-05-15T10:13:51.000502Z"
    }
   },
   "cell_type": "code",
   "source": [
    "%%file reg_service.py\n",
    "import grpc\n",
    "import registration_pb2\n",
    "import registration_pb2_grpc\n",
    "import database_pb2\n",
    "\n",
    "\n",
    "class RegistrationServiceServicer(registration_pb2_grpc.RegistrationServiceServicer):\n",
    "    def __init__(self, database_stub):\n",
    "        self.database_stub = database_stub\n",
    "\n",
    "    def RegisterUser(self, request, context):\n",
    "        username = request.username\n",
    "\n",
    "        if not username:\n",
    "            return registration_pb2.RegisterResponse(success=False, message=\"Username is required\")\n",
    "\n",
    "        check_request = database_pb2.CheckUserRequest(username=username)\n",
    "        try:\n",
    "            response = self.database_stub.CheckUserExists(check_request)\n",
    "\n",
    "            if response.exists:\n",
    "                return registration_pb2.RegisterResponse(success=False, message=\"User already exists\")\n",
    "            else:\n",
    "                return registration_pb2.RegisterResponse(success=True, message=\"User registered successfully\")\n",
    "        except grpc.RpcError as e:\n",
    "            return registration_pb2.RegisterResponse(success=False, message=f\"Database error: {e}\")"
   ],
   "id": "45994a7e77f96a4f",
   "outputs": [
    {
     "name": "stdout",
     "output_type": "stream",
     "text": [
      "Overwriting reg_service.py\n"
     ]
    }
   ],
   "execution_count": 63
  },
  {
   "metadata": {
    "ExecuteTime": {
     "end_time": "2025-05-15T10:14:27.524414Z",
     "start_time": "2025-05-15T10:14:27.504170Z"
    }
   },
   "cell_type": "code",
   "source": [
    "%%file db_service.py\n",
    "import database_pb2\n",
    "import database_pb2_grpc\n",
    "\n",
    "\n",
    "class DatabaseServiceServicer(database_pb2_grpc.DatabaseServiceServicer):\n",
    "    def __init__(self):\n",
    "        self.users = set()\n",
    "\n",
    "    def CheckUserExists(self, request, context):\n",
    "        username = request.username\n",
    "        exists = username in self.users\n",
    "\n",
    "        if not exists:\n",
    "            self.users.add(username)\n",
    "\n",
    "        return database_pb2.CheckUserResponse(exists=exists)"
   ],
   "id": "91c61253b2b7226d",
   "outputs": [
    {
     "name": "stdout",
     "output_type": "stream",
     "text": [
      "Overwriting db_service.py\n"
     ]
    }
   ],
   "execution_count": 66
  },
  {
   "metadata": {},
   "cell_type": "markdown",
   "source": "### Тесты",
   "id": "72bf6be3a87e374b"
  },
  {
   "metadata": {
    "ExecuteTime": {
     "end_time": "2025-05-15T10:14:07.383463Z",
     "start_time": "2025-05-15T10:14:07.360449Z"
    }
   },
   "cell_type": "code",
   "source": [
    "%%file test_grpc.py\n",
    "import pytest\n",
    "import grpc\n",
    "import registration_pb2\n",
    "import registration_pb2_grpc\n",
    "import database_pb2\n",
    "import database_pb2_grpc\n",
    "from concurrent import futures\n",
    "from db_service import DatabaseServiceServicer\n",
    "from reg_service import RegistrationServiceServicer\n",
    "\n",
    "\n",
    "def create_channel(host, port):\n",
    "    return grpc.insecure_channel(f\"{host}:{port}\")\n",
    "\n",
    "\n",
    "@pytest.fixture(scope=\"session\")\n",
    "def database_service():\n",
    "    server = grpc.server(futures.ThreadPoolExecutor(max_workers=10))\n",
    "    database_pb2_grpc.add_DatabaseServiceServicer_to_server(DatabaseServiceServicer(), server)\n",
    "\n",
    "    server.add_insecure_port(\"[::]:50051\")\n",
    "    server.start()\n",
    "    yield server\n",
    "    server.stop(grace=None)\n",
    "\n",
    "\n",
    "@pytest.fixture(scope=\"session\")\n",
    "def registration_service(database_service):\n",
    "    channel = create_channel(\"localhost\", 50051)\n",
    "    database_stub = database_pb2_grpc.DatabaseServiceStub(channel)\n",
    "    server = grpc.server(futures.ThreadPoolExecutor(max_workers=10))\n",
    "    registration_pb2_grpc.add_RegistrationServiceServicer_to_server(RegistrationServiceServicer(database_stub), server)\n",
    "\n",
    "    server.add_insecure_port(\"[::]:50052\")\n",
    "    server.start()\n",
    "    yield server\n",
    "    server.stop(grace=None)\n",
    "\n",
    "\n",
    "def test_registration(registration_service):\n",
    "    channel = create_channel(\"localhost\", 50052)\n",
    "    stub = registration_pb2_grpc.RegistrationServiceStub(channel)\n",
    "    request = registration_pb2.RegisterRequest(username=\"test\", password=\"123\")\n",
    "\n",
    "    response = stub.RegisterUser(request)\n",
    "    assert response.success\n",
    "\n",
    "\n",
    "def test_registration_empty_username(registration_service):\n",
    "    channel = create_channel(\"localhost\", 50052)\n",
    "    stub = registration_pb2_grpc.RegistrationServiceStub(channel)\n",
    "    request = registration_pb2.RegisterRequest(username=\"\", password=\"123\")\n",
    "\n",
    "    response = stub.RegisterUser(request)\n",
    "    assert response.success is False\n",
    "\n",
    "\n",
    "def test_registration_existing_user(database_service):\n",
    "    channel = create_channel(\"localhost\", 50051)\n",
    "    stub = database_pb2_grpc.DatabaseServiceStub(channel)\n",
    "    request = database_pb2.CheckUserRequest(username=\"test\")\n",
    "\n",
    "    response = stub.CheckUserExists(request)\n",
    "    assert response.exists\n",
    "\n",
    "\n",
    "def test_registration_non_existing_user(database_service):\n",
    "    channel = create_channel(\"localhost\", 50051)\n",
    "    stub = database_pb2_grpc.DatabaseServiceStub(channel)\n",
    "    request = database_pb2.CheckUserRequest(username=\"idontexist\")\n",
    "    response = stub.CheckUserExists(request)\n",
    "    assert response.exists is False\n",
    "\n",
    "\n",
    "def test_integration(registration_service, database_service):\n",
    "    channel_db = create_channel(\"localhost\", 50051)\n",
    "    db_stub = database_pb2_grpc.DatabaseServiceStub(channel_db)\n",
    "    db_request = database_pb2.CheckUserRequest(username=\"test\")\n",
    "    db_stub.CheckUserExists(db_request)\n",
    "\n",
    "    channel_reg = create_channel(\"localhost\", 50052)\n",
    "    reg_stub = registration_pb2_grpc.RegistrationServiceStub(channel_reg)\n",
    "    reg_request = registration_pb2.RegisterRequest(username=\"test\", password=\"123\")\n",
    "\n",
    "    response = reg_stub.RegisterUser(reg_request)\n",
    "    assert response.success is False"
   ],
   "id": "1ae99ff071740fb1",
   "outputs": [
    {
     "name": "stdout",
     "output_type": "stream",
     "text": [
      "Overwriting test_grpc.py\n"
     ]
    }
   ],
   "execution_count": 64
  },
  {
   "metadata": {
    "ExecuteTime": {
     "end_time": "2025-05-15T10:14:09.178068Z",
     "start_time": "2025-05-15T10:14:07.689969Z"
    }
   },
   "cell_type": "code",
   "source": "!pytest test_grpc.py",
   "id": "7277a57b3f4495e9",
   "outputs": [
    {
     "name": "stdout",
     "output_type": "stream",
     "text": [
      "\u001B[1m============================= test session starts =============================\u001B[0m\n",
      "platform win32 -- Python 3.9.7, pytest-8.3.4, pluggy-1.5.0\n",
      "rootdir: C:\\Users\\acva0\\Projects\\PycharmProjects\\WebTesting\\KT12\n",
      "plugins: allure-pytest-2.13.5, anyio-4.8.0, variables-3.1.0\n",
      "collected 5 items\n",
      "\n",
      "test_grpc.py \u001B[32m.\u001B[0m\u001B[32m.\u001B[0m\u001B[32m.\u001B[0m\u001B[32m.\u001B[0m\u001B[32m.\u001B[0m\u001B[32m                                                       [100%]\u001B[0m\n",
      "\n",
      "\u001B[32m============================== \u001B[32m\u001B[1m5 passed\u001B[0m\u001B[32m in 0.38s\u001B[0m\u001B[32m ==============================\u001B[0m\n"
     ]
    }
   ],
   "execution_count": 65
  },
  {
   "metadata": {},
   "cell_type": "code",
   "outputs": [],
   "execution_count": null,
   "source": "",
   "id": "4363c3b9f9cfd167"
  }
 ],
 "metadata": {
  "kernelspec": {
   "display_name": "Python 3",
   "language": "python",
   "name": "python3"
  },
  "language_info": {
   "codemirror_mode": {
    "name": "ipython",
    "version": 2
   },
   "file_extension": ".py",
   "mimetype": "text/x-python",
   "name": "python",
   "nbconvert_exporter": "python",
   "pygments_lexer": "ipython2",
   "version": "2.7.6"
  }
 },
 "nbformat": 4,
 "nbformat_minor": 5
}
