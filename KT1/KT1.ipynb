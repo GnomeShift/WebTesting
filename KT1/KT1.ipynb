{
 "cells": [
  {
   "metadata": {},
   "cell_type": "markdown",
   "source": "### Тестим Google",
   "id": "122286ada5193d8e"
  },
  {
   "metadata": {
    "ExecuteTime": {
     "end_time": "2025-01-13T14:26:38.081685Z",
     "start_time": "2025-01-13T14:26:38.076649Z"
    }
   },
   "cell_type": "code",
   "source": [
    "%%file test_KT1.py\n",
    "import pytest\n",
    "from selenium import webdriver\n",
    "from selenium.webdriver import Keys\n",
    "from selenium.webdriver.common.by import By\n",
    "\n",
    "\n",
    "@pytest.fixture(scope=\"function\")\n",
    "def driver():\n",
    "    driver = webdriver.Firefox()\n",
    "    driver.implicitly_wait(10)\n",
    "    yield driver\n",
    "    driver.quit()\n",
    "\n",
    "\n",
    "def test_page_title(driver):\n",
    "    driver.get(\"https://www.google.com\")\n",
    "    assert driver.title == \"Google\"\n",
    "\n",
    "\n",
    "def test_search(driver):\n",
    "    driver.get(\"https://www.google.com\")\n",
    "    search_box = driver.find_element(By.NAME, \"q\")\n",
    "    search_box.send_keys(\"Selenium\")\n",
    "    search_box.send_keys(Keys.RETURN)\n",
    "\n",
    "    assert \"Selenium - Поиск в Google\" in driver.title"
   ],
   "id": "f44abff7055aa1d7",
   "outputs": [
    {
     "name": "stdout",
     "output_type": "stream",
     "text": [
      "Overwriting test_KT1.py\n"
     ]
    }
   ],
   "execution_count": 34
  },
  {
   "metadata": {
    "ExecuteTime": {
     "end_time": "2025-01-13T14:26:25.432149Z",
     "start_time": "2025-01-13T14:26:06.741721Z"
    }
   },
   "cell_type": "code",
   "source": "!pytest test_KT1.py",
   "id": "17c90236f6089338",
   "outputs": [
    {
     "name": "stdout",
     "output_type": "stream",
     "text": [
      "\u001B[1mTest session starts (platform: darwin, Python 3.9.6, pytest 8.3.4, pytest-sugar 1.0.0)\u001B[0m\r\n",
      "rootdir: /Users/valdor/Projects/PycharmProjects/WebTesting/KT1\r\n",
      "plugins: cov-6.0.0, sugar-1.0.0, anyio-4.8.0\r\n",
      "collected 2 items                                                              \u001B[0m\r\n",
      "\r\n",
      " \u001B[36m\u001B[0mtest_KT1.py\u001B[0m \u001B[32m✓\u001B[0m                                                    \u001B[32m50% \u001B[0m\u001B[40m\u001B[32m█\u001B[0m\u001B[40m\u001B[32m████     \u001B[0m\r\n",
      "\r\n",
      "――――――――――――――――――――――――――――――――― test_search ――――――――――――――――――――――――――――――――――\r\n",
      "\r\n",
      "driver = <selenium.webdriver.firefox.webdriver.WebDriver (session=\"5b5f26f5-d42e-4a88-8661-3b56bb8771ef\")>\r\n",
      "\r\n",
      "    \u001B[0m\u001B[94mdef\u001B[39;49;00m\u001B[90m \u001B[39;49;00m\u001B[92mtest_search\u001B[39;49;00m(driver):\u001B[90m\u001B[39;49;00m\r\n",
      "        driver.get(\u001B[33m\"\u001B[39;49;00m\u001B[33mhttps://www.google.com\u001B[39;49;00m\u001B[33m\"\u001B[39;49;00m)\u001B[90m\u001B[39;49;00m\r\n",
      "        search_box = driver.find_element(By.NAME, \u001B[33m\"\u001B[39;49;00m\u001B[33mq\u001B[39;49;00m\u001B[33m\"\u001B[39;49;00m)\u001B[90m\u001B[39;49;00m\r\n",
      "        search_box.send_keys(\u001B[33m\"\u001B[39;49;00m\u001B[33mSelenium\u001B[39;49;00m\u001B[33m\"\u001B[39;49;00m)\u001B[90m\u001B[39;49;00m\r\n",
      "        search_box.send_keys(Keys.RETURN)\u001B[90m\u001B[39;49;00m\r\n",
      "    \u001B[90m\u001B[39;49;00m\r\n",
      ">       \u001B[94massert\u001B[39;49;00m \u001B[33m\"\u001B[39;49;00m\u001B[33mSelenium - Поиск в Google\u001B[39;49;00m\u001B[33m\"\u001B[39;49;00m \u001B[95min\u001B[39;49;00m driver.title\u001B[90m\u001B[39;49;00m\r\n",
      "\u001B[1m\u001B[31mE       assert 'Selenium - Поиск в Google' in 'Google'\u001B[0m\r\n",
      "\u001B[1m\u001B[31mE        +  where 'Google' = <selenium.webdriver.firefox.webdriver.WebDriver (session=\"5b5f26f5-d42e-4a88-8661-3b56bb8771ef\")>.title\u001B[0m\r\n",
      "\r\n",
      "\u001B[1m\u001B[31mtest_KT1.py\u001B[0m:26: AssertionError\r\n",
      "\r\n",
      " \u001B[36m\u001B[0mtest_KT1.py\u001B[0m \u001B[31m⨯\u001B[0m                                                   \u001B[31m100% \u001B[0m\u001B[40m\u001B[32m█\u001B[0m\u001B[40m\u001B[32m████\u001B[0m\u001B[40m\u001B[31m█\u001B[0m\u001B[40m\u001B[31m████\u001B[0m\r\n",
      "\u001B[36m\u001B[1m=========================== short test summary info ============================\u001B[0m\r\n",
      "\u001B[31mFAILED\u001B[0m test_KT1.py::\u001B[1mtest_search\u001B[0m - assert 'Selenium - Поиск в Google' in 'Google'\r\n",
      "\r\n",
      "Results (18.36s):\r\n",
      "\u001B[32m       1 passed\u001B[0m\r\n",
      "\u001B[31m       1 failed\u001B[0m\r\n",
      "         - \u001B[36m\u001B[0mtest_KT1.py\u001B[0m:20 \u001B[31mtest_search\u001B[0m\r\n"
     ]
    }
   ],
   "execution_count": 33
  },
  {
   "metadata": {},
   "cell_type": "code",
   "outputs": [],
   "execution_count": null,
   "source": "",
   "id": "fcd1f7d3b3b1e5e7"
  }
 ],
 "metadata": {
  "kernelspec": {
   "display_name": "Python 3",
   "language": "python",
   "name": "python3"
  },
  "language_info": {
   "codemirror_mode": {
    "name": "ipython",
    "version": 2
   },
   "file_extension": ".py",
   "mimetype": "text/x-python",
   "name": "python",
   "nbconvert_exporter": "python",
   "pygments_lexer": "ipython2",
   "version": "2.7.6"
  }
 },
 "nbformat": 4,
 "nbformat_minor": 5
}
