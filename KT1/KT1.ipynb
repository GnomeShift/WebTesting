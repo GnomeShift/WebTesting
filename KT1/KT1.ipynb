{
 "cells": [
  {
   "metadata": {},
   "cell_type": "markdown",
   "source": "### Тестим Google",
   "id": "122286ada5193d8e"
  },
  {
   "metadata": {
    "ExecuteTime": {
     "end_time": "2025-01-20T13:15:54.487733Z",
     "start_time": "2025-01-20T13:15:54.468693Z"
    }
   },
   "cell_type": "code",
   "source": [
    "%%file test_KT1.py\n",
    "import pytest\n",
    "from selenium import webdriver\n",
    "from selenium.webdriver import Keys\n",
    "from selenium.webdriver.common.by import By\n",
    "\n",
    "\n",
    "@pytest.fixture(scope=\"function\")\n",
    "def driver():\n",
    "    driver = webdriver.Firefox()\n",
    "    driver.implicitly_wait(10)\n",
    "    yield driver\n",
    "    driver.quit()\n",
    "\n",
    "\n",
    "def test_page_title(driver):\n",
    "    driver.get(\"https://www.google.com\")\n",
    "    assert driver.title == \"Google\"\n",
    "\n",
    "\n",
    "def test_search(driver):\n",
    "    driver.get(\"https://www.google.com\")\n",
    "    search_box = driver.find_element(By.NAME, \"q\")\n",
    "    search_box.send_keys(\"Selenium\")\n",
    "    search_box.send_keys(Keys.RETURN)\n",
    "\n",
    "    assert \"Google\" in driver.title"
   ],
   "id": "f44abff7055aa1d7",
   "outputs": [
    {
     "name": "stdout",
     "output_type": "stream",
     "text": [
      "Overwriting test_KT1.py\n"
     ]
    }
   ],
   "execution_count": 1
  },
  {
   "metadata": {
    "ExecuteTime": {
     "end_time": "2025-01-20T13:16:10.928353Z",
     "start_time": "2025-01-20T13:15:54.734900Z"
    }
   },
   "cell_type": "code",
   "source": "!pytest test_KT1.py",
   "id": "17c90236f6089338",
   "outputs": [
    {
     "name": "stdout",
     "output_type": "stream",
     "text": [
      "\u001B[1mTest session starts (platform: darwin, Python 3.9.6, pytest 8.3.4, pytest-sugar 1.0.0)\u001B[0m\r\n",
      "rootdir: /Users/valdor/Projects/PycharmProjects/WebTesting/KT1\r\n",
      "plugins: cov-6.0.0, sugar-1.0.0, anyio-4.8.0\r\n",
      "collected 2 items                                                              \u001B[0m\r\n",
      "\r\n",
      " \u001B[36m\u001B[0mtest_KT1.py\u001B[0m \u001B[32m✓\u001B[0m\u001B[32m✓\u001B[0m                                                  \u001B[32m100% \u001B[0m\u001B[40m\u001B[32m█\u001B[0m\u001B[40m\u001B[32m████\u001B[0m\u001B[40m\u001B[32m█\u001B[0m\u001B[40m\u001B[32m████\u001B[0m\r\n",
      "\r\n",
      "Results (15.71s):\r\n",
      "\u001B[32m       2 passed\u001B[0m\r\n"
     ]
    }
   ],
   "execution_count": 2
  },
  {
   "metadata": {
    "ExecuteTime": {
     "end_time": "2025-01-20T13:16:10.937862Z",
     "start_time": "2025-01-20T13:16:10.935916Z"
    }
   },
   "cell_type": "code",
   "source": "",
   "id": "fcd1f7d3b3b1e5e7",
   "outputs": [],
   "execution_count": null
  }
 ],
 "metadata": {
  "kernelspec": {
   "display_name": "Python 3",
   "language": "python",
   "name": "python3"
  },
  "language_info": {
   "codemirror_mode": {
    "name": "ipython",
    "version": 2
   },
   "file_extension": ".py",
   "mimetype": "text/x-python",
   "name": "python",
   "nbconvert_exporter": "python",
   "pygments_lexer": "ipython2",
   "version": "2.7.6"
  }
 },
 "nbformat": 4,
 "nbformat_minor": 5
}
