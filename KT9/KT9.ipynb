{
 "cells": [
  {
   "metadata": {},
   "cell_type": "markdown",
   "source": "## КТ9",
   "id": "5b8f8b914db978e3"
  },
  {
   "metadata": {},
   "cell_type": "markdown",
   "source": "### Базовый класс",
   "id": "34ccff0b4d737a9b"
  },
  {
   "cell_type": "code",
   "id": "initial_id",
   "metadata": {
    "collapsed": true,
    "ExecuteTime": {
     "end_time": "2025-04-16T21:09:15.654966Z",
     "start_time": "2025-04-16T21:09:15.623704Z"
    }
   },
   "source": [
    "%%file Base_Page.py\n",
    "class BasePage:\n",
    "    BASE_URL = \"https://youtube.com\"\n",
    "\n",
    "    def __init__(self, driver):\n",
    "        self.driver = driver\n",
    "        self.driver.implicitly_wait(2)\n",
    "        self.driver.get(BasePage.BASE_URL)"
   ],
   "outputs": [
    {
     "name": "stdout",
     "output_type": "stream",
     "text": [
      "Overwriting Base_Page.py\n"
     ]
    }
   ],
   "execution_count": 102
  },
  {
   "metadata": {},
   "cell_type": "markdown",
   "source": "### Тесты",
   "id": "adebfe51aff511cd"
  },
  {
   "metadata": {
    "ExecuteTime": {
     "end_time": "2025-04-16T21:01:32.435489Z",
     "start_time": "2025-04-16T21:01:32.404333Z"
    }
   },
   "cell_type": "code",
   "source": [
    "%%file test_web_youtube.py\n",
    "from time import sleep\n",
    "from selenium.webdriver.remote.webelement import WebElement\n",
    "from selenium.common import TimeoutException, NoSuchFrameException, StaleElementReferenceException\n",
    "from selenium.webdriver.support.wait import WebDriverWait\n",
    "import pytest\n",
    "from selenium.webdriver.firefox.options import Options as FirefoxOptions\n",
    "from selenium.webdriver.common.by import By\n",
    "from selenium.webdriver.common.keys import Keys\n",
    "from selenium import webdriver\n",
    "from Base_Page import BasePage\n",
    "from selenium.webdriver.support import expected_conditions as EC\n",
    "\n",
    "\n",
    "class YouTube(BasePage):\n",
    "    SHORTS_TAB = By.XPATH, \"//ytm-pivot-bar-item-renderer[.//c3-icon][2]\"\n",
    "    SHORTS_LIKE_BUTTON = By.XPATH, \"//div[contains(@class, \\\"reel-player-overlay-actions\\\")]//button[contains(@aria-label, 'Видео')]\"\n",
    "    VIDEO_PREVIEW = By.XPATH, \"//*[contains(@class, \\\"video-thumbnail-container-large\\\")]//img[contains(@class, \\\"yt-core-image\\\")]\"\n",
    "    VIDEO_PLAY_BUTTON = By.XPATH, \"//button[@aria-label='Воспроизвести видео']\"\n",
    "    WATCH_BUTTON = By.XPATH, \"//button[@aria-label='Смотреть']\"\n",
    "    NAVIGATOR_BUTTON = By.XPATH, \"//div[contains(@class, \\\"chip-container\\\")]//c3-icon\"\n",
    "    TRENDING_TAB = By.XPATH, \"//a[contains(@class, \\\"yt-spec-navigation-item-shape__navigation-item-endpoint\\\")]\"\n",
    "    SEARCH_ICON = By.XPATH, \"//button[contains(@aria-label, 'Поиск на YouTube')]\"\n",
    "    SEARCH_FIELD = By.XPATH, \"//form[contains(@class, \\\"ytSearchboxComponentSearchForm\\\")]//input\"\n",
    "\n",
    "    def __init__(self, driver):\n",
    "        super().__init__(driver)\n",
    "        self.driver = driver\n",
    "\n",
    "    def open_youtube(self):\n",
    "        self.driver.get(self.BASE_URL)\n",
    "\n",
    "    def open_shorts_tab(self):\n",
    "        self.driver.find_element(*self.SHORTS_TAB).click()\n",
    "\n",
    "    def find_element(self, locator: tuple[str, str], frame_locator: tuple[str, str] = None, max_attempts=3):\n",
    "        for attempt in range(max_attempts):\n",
    "            try:\n",
    "                if frame_locator:\n",
    "                    try:\n",
    "                        frame = WebDriverWait(self.driver, 10).until(EC.presence_of_element_located(frame_locator))\n",
    "                        self.driver.switch_to.frame(frame)\n",
    "                    except (TimeoutException, NoSuchFrameException) as e:\n",
    "                        print(f\"Ошибка при переключении на фрейм {frame_locator}: {e}\")\n",
    "                        pass\n",
    "                element: WebElement = WebDriverWait(self.driver, 10).until(EC.presence_of_element_located(locator))\n",
    "                self.driver.execute_script(\"arguments[0].scrollIntoView();\", element)\n",
    "                WebDriverWait(self.driver, 10).until(EC.element_to_be_clickable(element))\n",
    "                return element\n",
    "            except (TimeoutException, StaleElementReferenceException) as e:\n",
    "                print(f\"Ошибка (попытка {attempt + 1}): {e}\")\n",
    "                pass\n",
    "            finally:\n",
    "                try:\n",
    "                    if frame_locator:\n",
    "                        self.driver.switch_to.default_content()\n",
    "                except Exception as e:\n",
    "                    print(f\"Не удалось вернуться к основному контенту: {e}\")\n",
    "        print(f\"Не удалось найти элемент после {max_attempts} попыток с локатором {locator}\")\n",
    "\n",
    "    def find_and_click_element(self, locator: tuple[str, str], frame_locator: tuple[str, str] = None, max_attempts=3):\n",
    "        for attempt in range(max_attempts):\n",
    "            try:\n",
    "                if frame_locator:\n",
    "                    try:\n",
    "                        frame = WebDriverWait(self.driver, 3).until(\n",
    "                            EC.presence_of_element_located(frame_locator))\n",
    "                        self.driver.switch_to.frame(frame)\n",
    "                    except (TimeoutException, NoSuchFrameException) as e:\n",
    "                        print(f\"Ошибка при переключении на фрейм {frame_locator}: {e}\")\n",
    "                        pass\n",
    "\n",
    "                element: WebElement = WebDriverWait(self.driver, 10).until(\n",
    "                    EC.presence_of_element_located(locator))\n",
    "\n",
    "                self.driver.execute_script(\"arguments[0].scrollIntoView();\", element)\n",
    "                WebDriverWait(self.driver, 10).until(EC.element_to_be_clickable(element))\n",
    "\n",
    "                try:\n",
    "                    self.driver.execute_script(\"arguments[0].click();\", element)\n",
    "                    return\n",
    "                except StaleElementReferenceException as e:\n",
    "                    print(f\"StaleElementReferenceException при клике (попытка {attempt + 1}): {e}\")\n",
    "                    pass\n",
    "\n",
    "            except (TimeoutException, StaleElementReferenceException) as e:\n",
    "                print(f\"Ошибка (попытка {attempt + 1}): {e}\")\n",
    "                pass\n",
    "            finally:\n",
    "                try:\n",
    "                    if frame_locator:\n",
    "                        self.driver.switch_to.default_content()\n",
    "                except Exception as e:\n",
    "                    print(f\"Не удалось вернуться к основному контенту: {e}\")\n",
    "\n",
    "        print(f\"Не удалось кликнуть на элемент после {max_attempts} попыток с локатором {locator}\")\n",
    "\n",
    "\n",
    "class TestYouTubeWeb:\n",
    "    @pytest.fixture(scope=\"session\")\n",
    "    def youtube(self, driver):\n",
    "        return YouTube(driver)\n",
    "\n",
    "    def test_youtube_mobile(self, youtube, driver):\n",
    "        youtube.open_youtube()\n",
    "        assert \"YouTube\" in driver.title\n",
    "\n",
    "    def test_open_shorts_tab(self, youtube, driver):\n",
    "        youtube.open_youtube()\n",
    "        youtube.open_shorts_tab()\n",
    "        assert driver.find_element(*YouTube.SHORTS_LIKE_BUTTON).is_displayed()\n",
    "        sleep(3)\n",
    "\n",
    "    def test_open_navigator(self, youtube, driver):\n",
    "        youtube.open_youtube()\n",
    "        youtube.find_and_click_element(YouTube.NAVIGATOR_BUTTON)\n",
    "        assert youtube.find_element(YouTube.TRENDING_TAB).is_displayed()\n",
    "\n",
    "    def test_search(self, youtube, driver):\n",
    "        youtube.open_youtube()\n",
    "        sleep(2)\n",
    "        youtube.find_and_click_element(YouTube.SEARCH_ICON)\n",
    "        youtube.find_element(YouTube.SEARCH_FIELD).send_keys(\"4k video\")\n",
    "        youtube.find_element(YouTube.SEARCH_FIELD).send_keys(Keys.RETURN)\n",
    "        sleep(2)\n",
    "        assert \"4k video - YouTube\" in driver.title\n",
    "\n",
    "    def test_video_play(self, youtube, driver):\n",
    "        youtube.open_youtube()\n",
    "        youtube.find_and_click_element(YouTube.VIDEO_PREVIEW)\n",
    "        assert youtube.find_element(YouTube.WATCH_BUTTON).is_displayed() or youtube.find_element(YouTube.VIDEO_PLAY_BUTTON).is_displayed()\n",
    "\n",
    "\n",
    "@pytest.fixture(scope=\"session\")\n",
    "def driver():\n",
    "    firefox_options = FirefoxOptions()\n",
    "    firefox_options.set_preference(\"general.useragent.override\", \"Mozilla/5.0 (Android 13; Mobile; rv:125.0) Gecko/125.0 Firefox/125.0\")\n",
    "    driver = webdriver.Firefox(options=firefox_options)\n",
    "    driver.implicitly_wait(10)\n",
    "    driver.set_window_size(375, 667)\n",
    "    yield driver\n",
    "    driver.quit()"
   ],
   "id": "48da218cdd5c8d0a",
   "outputs": [
    {
     "name": "stdout",
     "output_type": "stream",
     "text": [
      "Overwriting test_web_youtube.py\n"
     ]
    }
   ],
   "execution_count": 100
  },
  {
   "metadata": {
    "ExecuteTime": {
     "end_time": "2025-04-16T21:02:08.715176Z",
     "start_time": "2025-04-16T21:01:33.031713Z"
    }
   },
   "cell_type": "code",
   "source": "!pytest -vv test_web_youtube.py",
   "id": "9276852fb55e33ac",
   "outputs": [
    {
     "name": "stdout",
     "output_type": "stream",
     "text": [
      "\u001B[1m============================= test session starts =============================\u001B[0m\n",
      "platform win32 -- Python 3.9.7, pytest-8.3.4, pluggy-1.5.0 -- C:\\Users\\acva0\\Projects\\PycharmProjects\\WebTesting\\.venv\\Scripts\\python.exe\n",
      "cachedir: .pytest_cache\n",
      "rootdir: C:\\Users\\acva0\\Projects\\PycharmProjects\\WebTesting\\KT9\n",
      "plugins: allure-pytest-2.13.5, anyio-4.8.0, variables-3.1.0\n",
      "\u001B[1mcollecting ... \u001B[0mcollected 5 items\n",
      "\n",
      "test_web_youtube.py::TestYouTubeWeb::test_youtube_mobile \u001B[32mPASSED\u001B[0m\u001B[32m          [ 20%]\u001B[0m\n",
      "test_web_youtube.py::TestYouTubeWeb::test_open_shorts_tab \u001B[32mPASSED\u001B[0m\u001B[32m         [ 40%]\u001B[0m\n",
      "test_web_youtube.py::TestYouTubeWeb::test_open_navigator \u001B[32mPASSED\u001B[0m\u001B[32m          [ 60%]\u001B[0m\n",
      "test_web_youtube.py::TestYouTubeWeb::test_search \u001B[32mPASSED\u001B[0m\u001B[32m                  [ 80%]\u001B[0m\n",
      "test_web_youtube.py::TestYouTubeWeb::test_video_play \u001B[32mPASSED\u001B[0m\u001B[32m              [100%]\u001B[0m\n",
      "\n",
      "\u001B[32m============================= \u001B[32m\u001B[1m5 passed\u001B[0m\u001B[32m in 30.53s\u001B[0m\u001B[32m ==============================\u001B[0m\n"
     ]
    }
   ],
   "execution_count": 101
  },
  {
   "metadata": {
    "ExecuteTime": {
     "end_time": "2025-04-16T15:48:44.234177Z",
     "start_time": "2025-04-16T15:48:44.225491Z"
    }
   },
   "cell_type": "code",
   "source": "",
   "id": "769258cce5268650",
   "outputs": [],
   "execution_count": null
  }
 ],
 "metadata": {
  "kernelspec": {
   "display_name": "Python 3",
   "language": "python",
   "name": "python3"
  },
  "language_info": {
   "codemirror_mode": {
    "name": "ipython",
    "version": 2
   },
   "file_extension": ".py",
   "mimetype": "text/x-python",
   "name": "python",
   "nbconvert_exporter": "python",
   "pygments_lexer": "ipython2",
   "version": "2.7.6"
  }
 },
 "nbformat": 4,
 "nbformat_minor": 5
}
